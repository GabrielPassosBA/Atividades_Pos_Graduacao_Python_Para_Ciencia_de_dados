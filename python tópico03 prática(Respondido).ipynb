{
 "cells": [
  {
   "cell_type": "markdown",
   "id": "3aabce97-0f64-4dfa-87e6-d4bd66684fdf",
   "metadata": {},
   "source": [
    "## Problema 1\n",
    "\n",
    "O Supermercado Epa resolveu dar um aumento de salário aos seus colaboradores e lhe contratou para desenvolver a solução que calculará os reajustes. \n",
    "Para isso, escreva uma função chamada `pagamento` que recebe como **parâmetro** o salário atual do colaborador e **retorna** o salário reajustado de acordo com as regras abaixo."
   ]
  },
  {
   "cell_type": "raw",
   "id": "2fa05645-db0c-4f21-868d-c25272f6e4d6",
   "metadata": {},
   "source": [
    "| Salário atual                      | Porcentagem de aumento |\n",
    "|------------------------------------|------------------------|\n",
    "| Salários até R$ 280,00             | Aumento de 20%         |\n",
    "| Maior que R$ 280,00 até R$ 700,00  | Aumento de 15%         |\n",
    "| Maior que R$ 700,00 até R$ 1500,00 | Aumento de 10%         |\n",
    "| Maior que R$ 1500,00               | Aumento de 5%          |"
   ]
  },
  {
   "cell_type": "markdown",
   "id": "3dafa5f8-bb70-4935-903e-c5b66002e5b2",
   "metadata": {},
   "source": [
    "### Exemplo de execução:\n",
    "\n",
    "Digite o valor do salário: **280.00**  \n",
    "Valor do aumento: **56.00**  \n",
    "Novo salário: **336.00**  \n",
    "\n",
    "Digite o valor do salário: **785.00**  \n",
    "Valor do aumento: **78.50**  \n",
    "Novo salário: **863.50**  "
   ]
  },
  {
   "cell_type": "code",
   "execution_count": 21,
   "id": "c7bfcecf-fe53-401c-962c-aa31837aa84f",
   "metadata": {},
   "outputs": [
    {
     "name": "stdin",
     "output_type": "stream",
     "text": [
      "Digite o valor do salário: R$  785\n"
     ]
    },
    {
     "name": "stdout",
     "output_type": "stream",
     "text": [
      "Valor do aumento: R$ 78.50\n",
      "Novo salário: R$ 863.50\n"
     ]
    }
   ],
   "source": [
    "### ESCREVA SUA SOLUÇÃO AQUI\n",
    "\n",
    "def pagamento(salario):\n",
    "    if salario <= 280:\n",
    "        aumento = salario * 0.20\n",
    "    if salario > 280 and salario <= 700:\n",
    "        aumento = salario * 0.15\n",
    "    if salario > 700 and salario <= 1500:\n",
    "        aumento = salario * 0.10\n",
    "    if salario > 1500:\n",
    "        aumento = salario * 0.05\n",
    "        \n",
    "    novo_salario = salario + aumento\n",
    "    print(f\"Valor do aumento: R$ {aumento:.2f}\")\n",
    "    print(f\"Novo salário: R$ {novo_salario:.2f}\")\n",
    "    \n",
    "\n",
    "\n",
    "salario = float(input('Digite o valor do salário: R$ '))\n",
    "\n",
    "\n",
    "novo_salario = pagamento(salario)"
   ]
  },
  {
   "cell_type": "code",
   "execution_count": 11,
   "id": "bdfa9003-2ba5-48dc-9914-d7d1a5d686f9",
   "metadata": {},
   "outputs": [],
   "source": [
    "# Exemplo de uso:\n",
    "salario = float(input('Digite o valor do salário: '))\n",
    "aumento, novo_salario = pagamento(salario)\n",
    "print(f\"Valor do aumento: {aumento:.2f}\")\n",
    "print(f\"Novo salário: {novo_salario:.2f}\")"
   ]
  },
  {
   "cell_type": "markdown",
   "id": "68bee10b",
   "metadata": {},
   "source": [
    "## Problema 2\n",
    "\n",
    "Você foi contratado para realizar o cálculo da folha de pagamento de uma empresa. \n",
    "Para isso, escreva uma função chamada `pagamento` que recebe como **parâmetros** o valor da hora trabalhada e a quantidade de horas trabalhadas e **retorna** o salário após os descontos do Imposto de Renda (IR)."
   ]
  },
  {
   "cell_type": "raw",
   "id": "0dac7e2e-271a-4cd8-ad79-195d7d2085de",
   "metadata": {},
   "source": [
    "| Salário bruto                    | Porcentagem de desconto do IR |\n",
    "|----------------------------------|-------------------------------|\n",
    "| Salários até R$ 900,00           | Isento de desconto do IR      |\n",
    "| Maior que R$ 900,00 até R$ 1500  | Desconto de 5%                |\n",
    "| Maior que R$ 1500,00 até R$ 2500 | Desconto de 10%               |\n",
    "| Maior que R$ 2500,00             | Desconto de 20%               |"
   ]
  },
  {
   "cell_type": "markdown",
   "id": "692aec76-7854-4e6a-8787-e57117c1f78b",
   "metadata": {},
   "source": [
    "### Exemplo de execução:\n",
    "\n",
    "Digite o valor da hora trabalhada: **40.0**  \n",
    "Digite a quantidade de horas trabalhadas: **7**  \n",
    "Salário bruto: **280.00**  \n",
    "Desconto: **0.00**  \n",
    "Salário líquido: **280.00**  \n",
    "\n",
    "Digite o valor da hora trabalhada: **35.0**  \n",
    "Digite a quantidade de horas trabalhadas: **40**  \n",
    "Salário bruto: **1400.00**  \n",
    "Desconto: **70.00**  \n",
    "Salário líquido: **1330.00**  "
   ]
  },
  {
   "cell_type": "code",
   "execution_count": 20,
   "id": "1413939f",
   "metadata": {},
   "outputs": [
    {
     "name": "stdin",
     "output_type": "stream",
     "text": [
      "Digite o valor da hora de trabalho:  35\n",
      "Digite a quantidade de horas trabalhadas:  40\n"
     ]
    },
    {
     "name": "stdout",
     "output_type": "stream",
     "text": [
      "Salário bruto: 1400.00\n",
      "Desconto: 70.00\n",
      "Salário líquido: 1330.00\n"
     ]
    }
   ],
   "source": [
    "### ESCREVA SUA SOLUÇÃO AQUI\n",
    "def pagamento(v_hora, qtd_hora):\n",
    "    \n",
    "    salario = v_hora * qtd_hora\n",
    "\n",
    "    if salario <= 900:\n",
    "        Desconto = 0\n",
    "    if salario > 900 and salario <= 1500:\n",
    "        Desconto = salario * 0.05\n",
    "    if salario > 1500  and salario <= 2500:\n",
    "        Desconto = salario * 0.10\n",
    "    if salario > 2500:\n",
    "        Desconto = salario * 0.20\n",
    "\n",
    "    salario_liquido = salario - Desconto\n",
    "\n",
    "    print(f\"Salário bruto: {salario:.2f}\")\n",
    "    print(f\"Desconto: {Desconto:.2f}\")\n",
    "    print(f\"Salário líquido: {salario_liquido:.2f}\")\n",
    "\n",
    "    \n",
    "valor_hora = float(input('Digite o valor da hora de trabalho: '))\n",
    "horas_trabalhadas = float(input('Digite a quantidade de horas trabalhadas: '))\n",
    "\n",
    "salario_final = pagamento(valor_hora, horas_trabalhadas)\n"
   ]
  },
  {
   "cell_type": "code",
   "execution_count": 17,
   "id": "17bfed1c-9095-490a-950a-5d2d2837a367",
   "metadata": {},
   "outputs": [],
   "source": [
    "# Exemplo de uso:\n",
    "valor_hora = float(input('Digite o valor da hora de trabalho: '))\n",
    "horas_trabalhadas = float(input('Digite a quantidade de horas trabalhadas: '))\n",
    "salario_bruto, desconto, salario_liquido = pagamento(valor_hora, horas_trabalhadas)\n",
    "print(f\"Salário bruto: {salario_bruto:.2f}\")\n",
    "print(f\"Desconto: {desconto:.2f}\")\n",
    "print(f\"Salário líquido: {salario_liquido:.2f}\")"
   ]
  },
  {
   "cell_type": "markdown",
   "id": "31b7f996",
   "metadata": {},
   "source": [
    "\n",
    "## Problema 3\n",
    "\n",
    "Faça um programa para determinar o tipo de um triângulo. Crie duas funções: `verifica_triangulo` e `tipo_triangulo`.\n",
    "- A função `verifica_triangulo` recebe três lados de um triângulo e retorna `True` se os lados formarem um triângulo, ou `False` caso contrário.\n",
    "- A função `tipo_triangulo` recebe três lados de um triângulo e retorna uma das strings: **Equilátero**, **Isósceles** ou **Escaleno**.\n",
    "\n",
    "### Exemplo de execução:\n",
    "\n",
    "Digite o valor do primeiro lado: **15**  \n",
    "Digite o valor do segundo lado: **20**  \n",
    "Digite o valor do terceiro lado: **1**  \n",
    "Não forma triângulo  \n",
    "\n",
    "Digite o valor do primeiro lado: **2**  \n",
    "Digite o valor do segundo lado: **2**  \n",
    "Digite o valor do terceiro lado: **2**  \n",
    "Equilátero  \n"
   ]
  },
  {
   "cell_type": "code",
   "execution_count": 31,
   "id": "a786f154-c528-475d-88ae-5e35b8586429",
   "metadata": {},
   "outputs": [
    {
     "name": "stdin",
     "output_type": "stream",
     "text": [
      "Digite o valor do primeiro lado:  2\n",
      "Digite o valor do segundo lado:  2\n",
      "Digite o valor do terceiro lado:  2\n"
     ]
    },
    {
     "name": "stdout",
     "output_type": "stream",
     "text": [
      "Equilátero\n"
     ]
    }
   ],
   "source": [
    "### ESCREVA SUA SOLUÇÃO AQUI\n",
    "\n",
    "def verifica_triangulo(lado1, lado2, lado3):\n",
    "    if ((lado1 + lado2) > lado3) and ((lado1 + lado3) > lado2) and ((lado2 + lado3) > lado3):\n",
    "        return True\n",
    "    else:\n",
    "        return False\n",
    "\n",
    "def tipo_triangulo(lado1, lado2, lado3):\n",
    "    if lado1 == lado2 == lado3:\n",
    "        return \"Equilátero\"\n",
    "    elif lado1 == lado2 or lado1 == lado3 or lado2 == lado3:\n",
    "        return \"Isósceles\"\n",
    "    else:\n",
    "        return \"Escaleno\"\n",
    "\n",
    "\n",
    "a = int(input('Digite o valor do primeiro lado: '))\n",
    "b = int(input('Digite o valor do segundo lado: '))\n",
    "c = int(input('Digite o valor do terceiro lado: '))\n",
    "\n",
    "if verifica_triangulo(a, b, c):\n",
    "    print(tipo_triangulo(a, b, c))\n",
    "else:\n",
    "    print(\"Não forma triângulo\")"
   ]
  },
  {
   "cell_type": "code",
   "execution_count": 32,
   "id": "3222ae99-74ce-4b4b-a89e-aac9ef939802",
   "metadata": {},
   "outputs": [
    {
     "name": "stdin",
     "output_type": "stream",
     "text": [
      "Digite o valor do primeiro lado:  2\n",
      "Digite o valor do segundo lado:  2\n",
      "Digite o valor do terceiro lado:  2\n"
     ]
    },
    {
     "name": "stdout",
     "output_type": "stream",
     "text": [
      "Equilátero\n"
     ]
    }
   ],
   "source": [
    "# Exemplo de uso:\n",
    "a = int(input('Digite o valor do primeiro lado: '))\n",
    "b = int(input('Digite o valor do segundo lado: '))\n",
    "c = int(input('Digite o valor do terceiro lado: '))\n",
    "if verifica_triangulo(a, b, c):\n",
    "    print(tipo_triangulo(a, b, c))\n",
    "else:\n",
    "    print(\"Não forma triângulo\")"
   ]
  },
  {
   "cell_type": "markdown",
   "id": "1e6497a0",
   "metadata": {},
   "source": [
    "\n",
    "## Problema 4\n",
    "\n",
    "Um posto está vendendo combustíveis com descontos. Escreva uma função chamada `calcula_valor` que recebe como parâmetros o preço do litro de combustível, a quantidade de litros abastecidos e o tipo de combustível (\"a\" para álcool ou \"g\" para gasolina) e retorna o valor a ser pago.\n",
    "\n",
    "### Exemplo de execução:\n",
    "\n",
    "Digite a quantidade de litros: **20**  \n",
    "Digite tipo de combustível: **a**  \n",
    "Digite o preço do litro de combustível: **3.7**  \n",
    "Total: **71.78**  \n",
    "\n",
    "Digite a quantidade de litros: **20**  \n",
    "Digite tipo de combustível: **g**  \n",
    "Digite o preço do litro de combustível: **3.7**  \n",
    "Total: **71.04**  \n"
   ]
  },
  {
   "cell_type": "code",
   "execution_count": 39,
   "id": "7c1c0e8c",
   "metadata": {},
   "outputs": [
    {
     "name": "stdin",
     "output_type": "stream",
     "text": [
      "Digite a quantidade de litros:  20\n",
      "Digite o tipo de combustível:  g\n",
      "Digite o preço do litro de combustível:  3.7\n"
     ]
    },
    {
     "name": "stdout",
     "output_type": "stream",
     "text": [
      "Total: 71.04\n"
     ]
    }
   ],
   "source": [
    "### ESCREVA SUA SOLUÇÃO AQUI\n",
    "\n",
    "def calcula_valor(p, qtd_l, t_c):\n",
    "\n",
    "    desconto_a = 0.03\n",
    "    desconto_g = 0.04\n",
    "    \n",
    "    total = p * qtd_l\n",
    "    \n",
    "    if t_c == 'a':\n",
    "        desconto = total * desconto_a\n",
    "    elif t_c == 'g':\n",
    "        desconto = total * desconto_g\n",
    "    else:\n",
    "        return (\"Error\")\n",
    "\n",
    "    valor_final = total - desconto\n",
    "    \n",
    "    print(f\"Total: {valor_final:.2f}\")\n",
    "\n",
    "litros = int(input('Digite a quantidade de litros: '))\n",
    "tipo_combustivel = str(input('Digite o tipo de combustível: '))\n",
    "preco_litro = float(input('Digite o preço do litro de combustível: '))\n",
    "\n",
    "total = calcula_valor(preco_litro, litros, tipo_combustivel)\n",
    "    \n",
    "\n"
   ]
  },
  {
   "cell_type": "code",
   "execution_count": null,
   "id": "59335db1-7ec7-4f85-947b-a4ab35eccdc6",
   "metadata": {},
   "outputs": [],
   "source": [
    "# Exemplo de uso:\n",
    "litros = int(input('Digite a quantidade de litros: '))\n",
    "tipo_combustivel = input('Digite o tipo de combustível: ')\n",
    "preco_litro = float(input('Digite o preço do litro de combustível: '))\n",
    "total = calcula_valor(preco_litro, litros, tipo_combustivel)\n",
    "print(f\"Total: {total:.2f}\")"
   ]
  },
  {
   "cell_type": "code",
   "execution_count": null,
   "id": "37a26b90-b707-4dc2-b8a8-ae58e80ea96e",
   "metadata": {},
   "outputs": [],
   "source": []
  }
 ],
 "metadata": {
  "kernelspec": {
   "display_name": "Python 3 (ipykernel)",
   "language": "python",
   "name": "python3"
  },
  "language_info": {
   "codemirror_mode": {
    "name": "ipython",
    "version": 3
   },
   "file_extension": ".py",
   "mimetype": "text/x-python",
   "name": "python",
   "nbconvert_exporter": "python",
   "pygments_lexer": "ipython3",
   "version": "3.11.7"
  }
 },
 "nbformat": 4,
 "nbformat_minor": 5
}
