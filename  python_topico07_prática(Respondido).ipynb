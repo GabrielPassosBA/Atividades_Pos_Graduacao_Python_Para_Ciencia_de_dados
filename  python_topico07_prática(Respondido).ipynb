{
 "cells": [
  {
   "cell_type": "markdown",
   "id": "f129372a",
   "metadata": {},
   "source": [
    "\n",
    "## Problema 1\n",
    "Escreva um programa que lê um arquivo chamado `notas.txt` que contém em cada linha o nome de um aluno e quatro notas entre 0 e 100. O programa deve então exibir na tela a maior e a menor média dentre todos os alunos.\n",
    "\n",
    "Exemplo de execução do programa:\n",
    "\n",
    "Assumindo que o arquivo `notas.txt` possui o conteúdo abaixo:\n",
    "\n",
    "```\n",
    "Leo 45 50 38 40\n",
    "Joe 100 50 55 60\n",
    "Lua 98 100 95 100\n",
    "Mia 12 50 80 100\n",
    "```\n",
    "\n",
    "Seu programa deve imprimir:\n",
    "\n",
    "```\n",
    "98.25\n",
    "43.25\n",
    "```\n"
   ]
  },
  {
   "cell_type": "code",
   "execution_count": 13,
   "id": "20f99a54",
   "metadata": {},
   "outputs": [
    {
     "name": "stdout",
     "output_type": "stream",
     "text": [
      "98.25\n",
      "43.25\n"
     ]
    }
   ],
   "source": [
    "# Solução do Problema 1\n",
    "\n",
    "def calcular_medias(nome_arquivo):\n",
    "\n",
    "    menor_media = 100\n",
    "    maior_media = 0  \n",
    "    with open(nome_arquivo, 'r') as arquivo:\n",
    "        for linha in arquivo:\n",
    "            nome, * notas = linha.split()\n",
    "            notas = [float(nota) for nota in notas]\n",
    "            media = sum(notas) / len(notas)\n",
    "            maior_media = max(maior_media, media)\n",
    "            menor_media = min(menor_media, media)\n",
    "    return maior_media, menor_media\n",
    "\n",
    "nome_arquivo = \"notas.txt\"\n",
    "maior, menor = calcular_medias(nome_arquivo)\n",
    "print(maior)\n",
    "print(menor)"
   ]
  },
  {
   "cell_type": "markdown",
   "id": "300df68d",
   "metadata": {},
   "source": [
    "\n",
    "## Problema 2\n",
    "Escreva um programa que pede ao usuário para digitar um inteiro `n`, em seguida lê um arquivo chamado `texto.txt` e então imprime na tela todas as palavras do arquivo com um número de caracteres menor ou igual a `n`, mantendo a ordem com que as palavras aparecem no texto.\n",
    "\n",
    "Exemplo de execução do programa:\n",
    "\n",
    "Assumindo que o arquivo `texto.txt` possui o conteúdo abaixo:\n",
    "\n",
    "```\n",
    "The book is on the table!\n",
    "Hi!\n",
    "I’m good, but thanks for the offer.\n",
    "I can’t believe how cold it is today!\n",
    "If you have a moment, I would love your thoughts on this.\n",
    "Hi!\n",
    "```\n",
    "\n",
    "A execução do seu programa deve ser como exemplificado abaixo:\n",
    "\n",
    "```\n",
    "Digite um inteiro: 2\n",
    "is\n",
    "on\n",
    "Hi!\n",
    "I\n",
    "it\n",
    "is\n",
    "If\n",
    "a\n",
    "I\n",
    "on\n",
    "Hi!\n",
    "```\n"
   ]
  },
  {
   "cell_type": "code",
   "execution_count": 25,
   "id": "5c3b19f8",
   "metadata": {},
   "outputs": [
    {
     "name": "stdin",
     "output_type": "stream",
     "text": [
      "Digite um inteiro:  2\n"
     ]
    },
    {
     "name": "stdout",
     "output_type": "stream",
     "text": [
      "is\n",
      "on\n",
      "Hi!\n",
      "I\n",
      "it\n",
      "is\n",
      "If\n",
      "a\n",
      "I\n",
      "on\n",
      "Hi!\n"
     ]
    }
   ],
   "source": [
    "# Solução do Problema 2\n",
    "\n",
    "def filtrar_palavras(arquivo, tamanho_maximo):\n",
    "\n",
    "    pontuacao = \".,;:!?-_\"  \n",
    "    with open(arquivo, 'r') as arquivo:\n",
    "        palavras_filtradas = []\n",
    "        for linha in arquivo:\n",
    "            palavras = linha.split()\n",
    "            for palavra in palavras:\n",
    "                palavra_limpa = \"\"\n",
    "                for caractere in palavra:\n",
    "                    if caractere not in pontuacao:\n",
    "                        palavra_limpa += caractere\n",
    "                if len(palavra_limpa) <= tamanho_maximo:\n",
    "                    palavras_filtradas.append(palavra)\n",
    "        return palavras_filtradas\n",
    "\n",
    "if __name__ == \"__main__\":\n",
    "    tamanho_maximo = int(input(\"Digite um inteiro: \"))\n",
    "    arquivo = \"texto.txt\"\n",
    "    resultado = filtrar_palavras(arquivo, tamanho_maximo)\n",
    "    print(\"\\n\".join(resultado))"
   ]
  },
  {
   "cell_type": "markdown",
   "id": "0933a6b6",
   "metadata": {},
   "source": [
    "\n",
    "## Problema 3\n",
    "Escreva um programa que lê um arquivo chamado `datas.txt` que contém uma lista de nomes seguida pela data de nascimento da pessoa e então imprima na tela o nome e a idade da pessoa na data de 05/10/2020.\n",
    "\n",
    "Exemplo de execução do programa:\n",
    "\n",
    "Assumindo que o arquivo `datas.txt` possui o conteúdo abaixo:\n",
    "\n",
    "```\n",
    "Seb 24/03/1990\n",
    "Fer 11/06/1995\n",
    "Her 31/08/1986\n",
    "Off 10/06/1980\n",
    "```\n",
    "\n",
    "Seu programa deve imprimir:\n",
    "\n",
    "```\n",
    "Nome: Seb\n",
    "Idade: 30 anos\n",
    "Nome: Fer\n",
    "Idade: 25 anos\n",
    "Nome: Her\n",
    "Idade: 34 anos\n",
    "Nome: Off\n",
    "Idade: 40 anos\n",
    "```\n"
   ]
  },
  {
   "cell_type": "code",
   "execution_count": 26,
   "id": "42641db5",
   "metadata": {},
   "outputs": [
    {
     "name": "stdout",
     "output_type": "stream",
     "text": [
      "Nome: Seb\n",
      "Idade: 30 anos\n",
      "Nome: Fer\n",
      "Idade: 25 anos\n",
      "Nome: Her\n",
      "Idade: 34 anos\n",
      "Nome: Off\n",
      "Idade: 40 anos\n"
     ]
    }
   ],
   "source": [
    "# Solução do Problema 3\n",
    "\n",
    "def calcular_idade(data_nascimento, data_atual=\"05/10/2020\"):\n",
    "\n",
    "    dia_nasc, mes_nasc, ano_nasc = map(int, data_nascimento.split('/'))\n",
    "    dia_atual, mes_atual, ano_atual = map(int, data_atual.split('/'))\n",
    "\n",
    "    idade = ano_atual - ano_nasc\n",
    "    if mes_atual < mes_nasc or (mes_atual == mes_nasc and dia_atual < dia_nasc):\n",
    "        idade -= 1\n",
    "\n",
    "    return idade\n",
    "\n",
    "def ler_e_calcular_idades(arquivo):\n",
    "\n",
    "    with open(arquivo, 'r') as arquivo:\n",
    "        for linha in arquivo:\n",
    "            nome, data_nascimento = linha.strip().split()\n",
    "            idade = calcular_idade(data_nascimento)\n",
    "            print(f\"Nome: {nome}\")\n",
    "            print(f\"Idade: {idade} anos\")\n",
    "\n",
    "if __name__ == \"__main__\":\n",
    "    arquivo = \"datas.txt\"\n",
    "    ler_e_calcular_idades(arquivo)\n"
   ]
  },
  {
   "cell_type": "markdown",
   "id": "aa51d2a0",
   "metadata": {},
   "source": [
    "\n",
    "## Problema 4\n",
    "Escreva um programa que lê um arquivo chamado `frases.txt` e imprime na tela a quantidade de frases palíndromos que existem no arquivo. Dica: utilize a função `replace()` de strings para remover os espaços em branco antes de verificar se a frase é um palíndromo.\n",
    "\n",
    "Exemplo de execução do programa:\n",
    "\n",
    "Assumindo que o arquivo `frases.txt` possui o conteúdo abaixo:\n",
    "\n",
    "```\n",
    "A base do teto desaba\n",
    "Bazinga\n",
    "A mala nada na lama\n",
    "Grandes poderes trazem grandes responsabilidades\n",
    "```\n",
    "\n",
    "Seu programa deve imprimir:\n",
    "\n",
    "```\n",
    "Quantidade de palíndromos: 2\n",
    "```\n"
   ]
  },
  {
   "cell_type": "code",
   "execution_count": 27,
   "id": "e225f734",
   "metadata": {},
   "outputs": [
    {
     "name": "stdout",
     "output_type": "stream",
     "text": [
      "Quantidade de palíndromos: 2\n"
     ]
    }
   ],
   "source": [
    "# Solução do Problema 4\n",
    "\n",
    "def eh_palindromo(frase):\n",
    "\n",
    "    frase = frase.replace(\" \", \"\").lower()\n",
    "    return frase == frase[::-1]\n",
    "\n",
    "def contar_palindromos(arquivo):\n",
    "\n",
    "    contador = 0\n",
    "    with open(arquivo, 'r') as arquivo:\n",
    "        for linha in arquivo:\n",
    "            if eh_palindromo(linha.strip()):\n",
    "                contador += 1\n",
    "    return contador\n",
    "\n",
    "if __name__ == \"__main__\":\n",
    "    arquivo = \"frases.txt\"\n",
    "    palindromos = contar_palindromos(arquivo)\n",
    "    print(f\"Quantidade de palíndromos: {palindromos}\")\n",
    "\n"
   ]
  },
  {
   "cell_type": "code",
   "execution_count": null,
   "id": "e333ffa9-3b40-49c3-bdc2-cc4517e74de0",
   "metadata": {},
   "outputs": [],
   "source": []
  }
 ],
 "metadata": {
  "kernelspec": {
   "display_name": "Python 3 (ipykernel)",
   "language": "python",
   "name": "python3"
  },
  "language_info": {
   "codemirror_mode": {
    "name": "ipython",
    "version": 3
   },
   "file_extension": ".py",
   "mimetype": "text/x-python",
   "name": "python",
   "nbconvert_exporter": "python",
   "pygments_lexer": "ipython3",
   "version": "3.11.7"
  }
 },
 "nbformat": 4,
 "nbformat_minor": 5
}
