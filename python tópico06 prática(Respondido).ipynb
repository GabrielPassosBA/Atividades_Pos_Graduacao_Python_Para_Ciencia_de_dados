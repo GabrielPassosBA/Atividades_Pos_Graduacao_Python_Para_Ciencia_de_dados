{
 "cells": [
  {
   "cell_type": "markdown",
   "id": "74f017df",
   "metadata": {},
   "source": [
    "# Atividade Prática - Listas\n",
    "\n",
    "## Problema 1\n",
    "\n",
    "Escreva um programa que leia 10 números inteiros e armazene os 5 primeiros em uma lista e os 5 restantes em outra. Depois, calcule e armazene a interseção das duas listas em uma terceira lista e a imprima.\n",
    "\n",
    "### Exemplo de execução do programa:\n",
    "\n",
    "```\n",
    "1\n",
    "2\n",
    "3\n",
    "4\n",
    "5\n",
    "\n",
    "11\n",
    "21\n",
    "3\n",
    "5\n",
    "10\n",
    "\n",
    "Interseção: [3, 5]\n",
    "```\n"
   ]
  },
  {
   "cell_type": "code",
   "execution_count": 1,
   "id": "d4479e36",
   "metadata": {},
   "outputs": [
    {
     "name": "stdout",
     "output_type": "stream",
     "text": [
      "Digite os 10 números:\n"
     ]
    },
    {
     "name": "stdin",
     "output_type": "stream",
     "text": [
      " 1\n",
      " 2\n",
      " 3\n",
      " 4\n",
      " 5\n",
      " 11\n",
      " 21\n",
      " 3\n",
      " 5\n",
      " 10\n"
     ]
    },
    {
     "name": "stdout",
     "output_type": "stream",
     "text": [
      "Interseção: [3, 5]\n"
     ]
    }
   ],
   "source": [
    "# Solução do Problema 1\n",
    "def encontrar_intersecao(lista1, lista2):\n",
    "\n",
    "    conjunto1 = set(lista1)\n",
    "    conjunto2 = set(lista2)\n",
    "\n",
    "    intersecao = conjunto1.intersection(conjunto2)\n",
    "    return list(intersecao)\n",
    "\n",
    "\n",
    "lista_primeira_metade = []\n",
    "lista_segunda_metade = []\n",
    "\n",
    "for i in range(10):\n",
    "    numero = int(input())\n",
    "    if i < 5:\n",
    "        lista_primeira_metade.append(numero)\n",
    "    else:\n",
    "        lista_segunda_metade.append(numero)\n",
    "\n",
    "intersecao = encontrar_intersecao(lista_primeira_metade, lista_segunda_metade)\n",
    "print(\"Interseção:\", intersecao)\n",
    "\n"
   ]
  },
  {
   "cell_type": "markdown",
   "id": "f0b37ab8",
   "metadata": {},
   "source": [
    "## Problema 2\n",
    "\n",
    "Faça um programa que leia 10 números inteiros ($n = 10$) fornecidos pelo usuário, os adicione em uma lista $v$ e então calcule o desvio padrão dos elementos da lista, onde $m$ é a média da lista.\n",
    "\n",
    "$$\n",
    "Desvio = \\sqrt{\\frac{1}{n-1}\\sum_{i=1}^{n}(v[i]-m)^2}\n",
    "$$\n",
    "\n",
    "### Exemplo de execução do programa:\n",
    "\n",
    "```\n",
    "1\n",
    "2\n",
    "3\n",
    "4\n",
    "5\n",
    "6\n",
    "7\n",
    "8\n",
    "9\n",
    "10\n",
    "\n",
    "Desvio Padrão: 3.03\n",
    "```\n"
   ]
  },
  {
   "cell_type": "code",
   "execution_count": 8,
   "id": "97bcbf68",
   "metadata": {},
   "outputs": [
    {
     "name": "stdin",
     "output_type": "stream",
     "text": [
      " 1\n",
      " 2\n",
      " 3\n",
      " 4\n",
      " 5\n",
      " 6\n",
      " 7\n",
      " 8\n",
      " 9\n",
      " 10\n"
     ]
    },
    {
     "name": "stdout",
     "output_type": "stream",
     "text": [
      "Desvio Padrão: 3.03\n"
     ]
    }
   ],
   "source": [
    "# Solução do Problema 2\n",
    "import math\n",
    "\n",
    "def calcular_desvio_padrao(lista):\n",
    "\n",
    "    media = sum(lista) / len(lista)\n",
    "    variancia = sum((x - media) ** 2 for x in lista) / (len(lista) - 1)\n",
    "    desvio_padrao = math.sqrt(variancia)\n",
    "\n",
    "    return desvio_padrao\n",
    "\n",
    "numeros = []\n",
    "for _ in range(10):\n",
    "    numero = int(input(\"\"))\n",
    "    numeros.append(numero)\n",
    "\n",
    "desvio = calcular_desvio_padrao(numeros)\n",
    "print(f\"Desvio Padrão: {desvio:.2f}\")"
   ]
  },
  {
   "cell_type": "markdown",
   "id": "87a68999",
   "metadata": {},
   "source": [
    "## Problema 3\n",
    "\n",
    "Faça um programa que leia a dimensão $n$ de dois vetores ($a$ e $b$), além dos elementos desses vetores (apenas números inteiros) e então calcule o produto escalar entre esses dois vetores. O produto escalar entre dois vetores é definido como segue:\n",
    "\n",
    "$$\n",
    "a \\cdot b = \\sum_{i=1}^{n} a_i b_i = a_1 b_1 + a_2 b_2 + \\dots + a_n b_n\n",
    "$$\n",
    "\n",
    "### Exemplo de execução do programa:\n",
    "\n",
    "```\n",
    "Digite a dimensão: 3\n",
    "6\n",
    "-3\n",
    "2\n",
    "2\n",
    "1\n",
    "-2\n",
    "Produto Escalar: 5\n",
    "```\n"
   ]
  },
  {
   "cell_type": "code",
   "execution_count": 21,
   "id": "7ca84828",
   "metadata": {},
   "outputs": [
    {
     "name": "stdin",
     "output_type": "stream",
     "text": [
      "Digite a dimensão dos vetores:  3\n",
      " 6\n",
      " -3\n",
      " 2\n",
      " 2\n",
      " 1\n",
      " -2\n"
     ]
    },
    {
     "name": "stdout",
     "output_type": "stream",
     "text": [
      "Produto Escalar:  5\n"
     ]
    }
   ],
   "source": [
    "# Solução do Problema 3\n",
    "\n",
    "def produto_escalar(v1, v2):\n",
    "\n",
    "    if len(v1) != len(v2):\n",
    "        raise ValueError(\"Error! Vetores devem ter a mesma dimensão.\")\n",
    "\n",
    "    produto = 0\n",
    "    for i in range(len(v1)):\n",
    "        produto = produto + v1[i] * v2[i]\n",
    "\n",
    "    return produto\n",
    "\n",
    "dimensao = int(input(\"Digite a dimensão dos vetores: \"))\n",
    "\n",
    "a = []\n",
    "b = []\n",
    "\n",
    "for _ in range(dimensao):\n",
    "    a.append(int(input()))\n",
    "\n",
    "for _ in range(dimensao):\n",
    "    b.append(int(input()))\n",
    "\n",
    "resultado = produto_escalar(a, b)\n",
    "print(f\"Produto Escalar: {resultado}\")\n"
   ]
  },
  {
   "cell_type": "markdown",
   "id": "d75bdc8c",
   "metadata": {},
   "source": [
    "## Problema 4\n",
    "\n",
    "Escreva uma função chamada `has_duplicates` que recebe como parâmetro uma lista e retorna `True` se houver algum elemento que apareça mais de uma vez na lista, caso contrário, a função deve retornar `False`. Sua função não deve modificar a lista original.\n",
    "\n",
    "### Exemplo de execução do programa:\n",
    "\n",
    "```\n",
    "[1, 2, 3, 4]\n",
    "False\n",
    "\n",
    "[1, 'casa', 3, 'casa', 51.2, 31, 'banana']\n",
    "True\n",
    "```\n"
   ]
  },
  {
   "cell_type": "code",
   "execution_count": 25,
   "id": "876387b3",
   "metadata": {},
   "outputs": [
    {
     "name": "stdout",
     "output_type": "stream",
     "text": [
      "[1, 2, 3, 4]\n",
      "False\n",
      "[1, 'casa', 3, 'casa', 51.2, 31, 'banana']\n",
      "True\n"
     ]
    }
   ],
   "source": [
    "# Solução do Problema 4\n",
    "def has_duplicates(lista):\n",
    "\n",
    "    conjunto = set(lista)\n",
    "    return len(conjunto) != len(lista)\n",
    "\n",
    "\n",
    "lista1 = [1, 2, 3, 4]\n",
    "lista2 = [1, 'casa', 3, 'casa', 51.2, 31, 'banana']\n",
    "\n",
    "print(lista1)\n",
    "print(has_duplicates(lista1))\n",
    "\n",
    "print(lista2)\n",
    "print(has_duplicates(lista2))  \n"
   ]
  },
  {
   "cell_type": "code",
   "execution_count": null,
   "id": "2ab6ae98-2184-4c09-a8a1-b97d07690c89",
   "metadata": {},
   "outputs": [],
   "source": [
    "# Exemplo de uso\n",
    "lista1 = [1, 2, 3, 4]\n",
    "lista2 = [1, 'casa', 3, 'casa', 51.2, 31, 'banana']\n",
    "\n",
    "print(has_duplicates(lista1))  # False\n",
    "print(has_duplicates(lista2))  # True"
   ]
  },
  {
   "cell_type": "code",
   "execution_count": null,
   "id": "79c5927e-7d37-404b-9d1e-46f0a245f2c2",
   "metadata": {},
   "outputs": [],
   "source": []
  }
 ],
 "metadata": {
  "kernelspec": {
   "display_name": "Python 3 (ipykernel)",
   "language": "python",
   "name": "python3"
  },
  "language_info": {
   "codemirror_mode": {
    "name": "ipython",
    "version": 3
   },
   "file_extension": ".py",
   "mimetype": "text/x-python",
   "name": "python",
   "nbconvert_exporter": "python",
   "pygments_lexer": "ipython3",
   "version": "3.11.7"
  }
 },
 "nbformat": 4,
 "nbformat_minor": 5
}
