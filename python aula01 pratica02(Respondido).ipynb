{
 "cells": [
  {
   "cell_type": "markdown",
   "id": "9e3feb10-691a-44ba-a4c2-4e718ef7c0d9",
   "metadata": {},
   "source": [
    "# Aula 01 - Prática 02"
   ]
  },
  {
   "cell_type": "markdown",
   "id": "40c2420f",
   "metadata": {},
   "source": [
    "# Problema 1\n",
    "\n",
    "Faça um programa que leia cinco números inteiros e identifique:\n",
    "\n",
    "- O maior valor informado\n",
    "- O menor valor informado\n",
    "- Quantos números são divisíveis por 3\n",
    "\n",
    "**Exemplo de execução do programa:**\n",
    "\n",
    "Digite o primeiro inteiro: **2**  \n",
    "Digite o segundo inteiro: **1**  \n",
    "Digite o terceiro inteiro: **5**  \n",
    "Digite o quarto inteiro: **3**  \n",
    "Digite o quinto inteiro: **4**  \n",
    "Maior: **5**  \n",
    "Menor: **1**  \n",
    "Quantidade de divisíveis por 3: **1**"
   ]
  },
  {
   "cell_type": "code",
   "execution_count": 14,
   "id": "ed09eb58",
   "metadata": {},
   "outputs": [
    {
     "name": "stdin",
     "output_type": "stream",
     "text": [
      "Digite o primeiro inteiro: 2\n",
      "Digite o segundo inteiro: 1\n",
      "Digite o terceiro inteiro: 6\n",
      "Digite o quarto inteiro: 3\n",
      "Digite o quinto inteiro: 4\n"
     ]
    },
    {
     "name": "stdout",
     "output_type": "stream",
     "text": [
      "Maior: 6\n",
      "Menor: 1\n",
      "Quantidade de divisíveis por 3: 2\n"
     ]
    }
   ],
   "source": [
    "# Problema 1 - Solução\n",
    "\n",
    "v1 =  int(input(\"Digite o primeiro inteiro:\"))\n",
    "v2 = int(input(\"Digite o segundo inteiro:\"))\n",
    "v3 = int(input(\"Digite o terceiro inteiro:\"))\n",
    "v4 = int(input(\"Digite o quarto inteiro:\"))\n",
    "v5 = int(input(\"Digite o quinto inteiro:\"))\n",
    "\n",
    "\n",
    "\n",
    "######## Maior ########\n",
    "if v1 > v2 and v1 > v3 and v1 > v4 and v1 > v5:\n",
    "    print(\"Maior:\",v1)\n",
    "elif v2 > v1 and v2 > v3 and v2 > v4 and v2 > v5:\n",
    "    print(\"Maior:\",v2)\n",
    "elif v3 > v1 and v3 > v2 and v3 > v4 and v3 > v5:\n",
    "    print(\"Maior:\",v3)\n",
    "elif v4 > v1 and v4 > v2 and v4 > v3 and v4 > v5:\n",
    "    print(\"Maior:\",v4)\n",
    "else:\n",
    "    print(\"Maior:\",v5)\n",
    "    \n",
    "######## Menor ########\n",
    "if v1 < v2 and v1 < v3 and v1 < v4 and v1 < v5:\n",
    "    print(\"Menor:\",v1)\n",
    "elif v2 < v1 and v2 < v3 and v2 < v4 and v2 < v5:\n",
    "    print(\"Menor:\",v2)\n",
    "elif v3 < v1 and v3 < v2 and v3 < v4 and v3 < v5:\n",
    "    print(\"Menor:\",v3)\n",
    "elif v4 < v1 and v4 < v2 and v4 < v3 and v4 < v5:\n",
    "    print(\"Menor:\",v4)\n",
    "else:\n",
    "    print(\"Menor:\",v5)\n",
    "\n",
    "######## Divisivel por 3 ########\n",
    "qtd3 = 0\n",
    "\n",
    "if v1 % 3 == 0:\n",
    "    qtd3 += 1\n",
    "if v2 % 3 == 0:\n",
    "    qtd3 += 1\n",
    "if v3 % 3 == 0:\n",
    "    qtd3 += 1\n",
    "if v4 % 3 == 0:\n",
    "    qtd3 += 1\n",
    "if v5 % 3 == 0:\n",
    "    qtd3 += 1\n",
    "else: \n",
    "    qtd3 += 0\n",
    "\n",
    "print(\"Quantidade de divisíveis por 3:\", qtd3)"
   ]
  },
  {
   "cell_type": "markdown",
   "id": "93f6b93e",
   "metadata": {},
   "source": [
    "# Problema 2\n",
    "\n",
    "Um motorista que ultrapassa a velocidade máxima permitida estará sujeito a uma infração média, grave ou gravíssima. Faça um programa que receba dois valores: a velocidade máxima de uma via e a velocidade registrada por um radar. Em seguida, o programa deve imprimir na tela se o motorista cometeu algum tipo de infração.\n",
    "\n",
    "**Exemplo de execução do programa:**\n",
    "\n",
    "Digite o valor da velocidade máxima: **60**  \n",
    "Digite o valor da velocidade registrada: **60**  \n",
    "Sem Infração\n",
    "\n",
    "Digite o valor da velocidade máxima: **100**  \n",
    "Digite o valor da velocidade registrada: **160**  \n",
    "Infração Gravíssima"
   ]
  },
  {
   "cell_type": "code",
   "execution_count": 2,
   "id": "9a38d3eb",
   "metadata": {},
   "outputs": [
    {
     "name": "stdin",
     "output_type": "stream",
     "text": [
      "Digite o valor da velocidade máxima: 100\n",
      "Digite o valor da velocidade registrada: 160\n"
     ]
    },
    {
     "name": "stdout",
     "output_type": "stream",
     "text": [
      "Infração Gravíssima\n"
     ]
    }
   ],
   "source": [
    "# Problema 2 - Solução\n",
    "\n",
    "vm =  int(input(\"Digite o valor da velocidade máxima:\"))\n",
    "vr =  int(input(\"Digite o valor da velocidade registrada:\"))\n",
    "\n",
    "if vr <= vm:\n",
    "    print(\"Sem Infração\")\n",
    "else:\n",
    "    print(\"Infração Gravíssima\")\n",
    "    "
   ]
  },
  {
   "cell_type": "markdown",
   "id": "f9c038ca",
   "metadata": {},
   "source": [
    "# Problema 3\n",
    "\n",
    "Faça um programa que receba a idade, o tempo de contribuição e o sexo de um servidor público e imprima na tela se esse servidor pode se aposentar ou não. Utilize o caractere \"M\" para representar o sexo masculino e \"F\" para representar o sexo feminino.\n",
    "\n",
    "**Exemplo de execução do programa:**\n",
    "\n",
    "Digite a idade: **60**  \n",
    "Digite o tempo de contribuição: **35**  \n",
    "Digite o sexo (M/F): **M**  \n",
    "Pode aposentar\n",
    "\n",
    "Digite a idade: **60**  \n",
    "Digite o tempo de contribuição: **30**  \n",
    "Digite o sexo (M/F): **M**  \n",
    "Não pode aposentar"
   ]
  },
  {
   "cell_type": "code",
   "execution_count": 5,
   "id": "7f6f2e67",
   "metadata": {},
   "outputs": [
    {
     "name": "stdin",
     "output_type": "stream",
     "text": [
      "Digite a idade: 60\n",
      "Digite o tempo de contribuição: 30\n",
      "Digite o sexo (M/F): F\n"
     ]
    },
    {
     "name": "stdout",
     "output_type": "stream",
     "text": [
      "Pode aposentar\n"
     ]
    }
   ],
   "source": [
    "# Problema 3 - Solução\n",
    "\n",
    "i =  int(input(\"Digite a idade:\"))\n",
    "tc =  int(input(\"Digite o tempo de contribuição:\"))\n",
    "s =  str(input(\"Digite o sexo (M/F):\"))\n",
    "\n",
    "# Regras para Homens\n",
    "if s == 'M' and i >= 60 and tc >= 35:\n",
    "    print(\"Pode aposentar\")\n",
    "elif s == 'M' and i < 60 and tc >= 35:\n",
    "    print(\"Não pode aposentar\")\n",
    "elif s == 'M' and i >= 60 and tc < 35:\n",
    "    print(\"Não pode aposentar\")\n",
    "elif s == 'M' and i < 60 and tc < 35:\n",
    "    print(\"Não pode aposentar\")\n",
    "\n",
    "# Regras para Mulheres\n",
    "if s == 'F' and i >= 60 and tc >= 30:\n",
    "    print(\"Pode aposentar\")\n",
    "elif s == 'F' and i < 60 and tc >= 30:\n",
    "    print(\"Não pode aposentar\")\n",
    "elif s == 'F' and i >= 60 and tc < 30:\n",
    "    print(\"Não pode aposentar\")\n",
    "elif s == 'F' and i < 60 and tc < 30:\n",
    "    print(\"Não pode aposentar\")\n",
    "\n"
   ]
  },
  {
   "cell_type": "markdown",
   "id": "b9367190",
   "metadata": {},
   "source": [
    "\n",
    "# Problema 4\n",
    "\n",
    "Faça um programa que receba o salário de um colaborador, calcula o reajuste segundo a tabela e exibe o valor do aumento e o valor do novo salário.\n",
    "\n",
    "**Exemplo de execução do programa:**\n",
    "\n",
    "Digite o valor do salário: **280.00**  \n",
    "Valor do aumento: **56.00**  \n",
    "Novo salário: **336.00**\n",
    "\n",
    "Digite o valor do salário: **785.00**  \n",
    "Valor do aumento: **78.50**  \n",
    "Novo salário: **863.50**\n"
   ]
  },
  {
   "cell_type": "code",
   "execution_count": 17,
   "id": "c81cfd8e",
   "metadata": {},
   "outputs": [
    {
     "name": "stdin",
     "output_type": "stream",
     "text": [
      "Digite o valor do salário: 785\n",
      "Valor do aumento: 78.5\n"
     ]
    },
    {
     "name": "stdout",
     "output_type": "stream",
     "text": [
      "Novo salário: 863.50\n"
     ]
    }
   ],
   "source": [
    "# Problema 4 - Solução\n",
    "\n",
    "s =  float(input(\"Digite o valor do salário:\"))\n",
    "a =  float(input(\"Valor do aumento:\"))\n",
    "\n",
    "ns = (s + a)\n",
    "\n",
    "print(f\"Novo salário: {ns:.2f}\")"
   ]
  },
  {
   "cell_type": "code",
   "execution_count": null,
   "id": "4bdcc57d-125f-4904-b134-4778968613f0",
   "metadata": {},
   "outputs": [],
   "source": []
  }
 ],
 "metadata": {
  "kernelspec": {
   "display_name": "Python 3 (ipykernel)",
   "language": "python",
   "name": "python3"
  },
  "language_info": {
   "codemirror_mode": {
    "name": "ipython",
    "version": 3
   },
   "file_extension": ".py",
   "mimetype": "text/x-python",
   "name": "python",
   "nbconvert_exporter": "python",
   "pygments_lexer": "ipython3",
   "version": "3.11.7"
  }
 },
 "nbformat": 4,
 "nbformat_minor": 5
}
