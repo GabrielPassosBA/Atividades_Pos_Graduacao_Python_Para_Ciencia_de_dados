{
 "cells": [
  {
   "cell_type": "markdown",
   "id": "8c779a06",
   "metadata": {},
   "source": [
    "\n",
    "## Problema 1\n",
    "\n",
    "Escreva uma função chamada `populacao` que receba como parâmetros o número de habitantes e a taxa anual de crescimento (em porcento) da população de uma cidade A, \n",
    "o número de habitantes e a taxa anual de crescimento da população de uma cidade B, e retorna o número de anos necessários para que a população da cidade A ultrapasse \n",
    "ou iguale a população da cidade B, mantidas as taxas de crescimento.\n",
    "\n",
    "### Exemplo de execução do programa:\n",
    "\n",
    "Digite a população da cidade A: **80000**  \n",
    "Digite a taxa de crescimento da população da cidade A: **3**  \n",
    "Digite a população da cidade B: **200000**  \n",
    "Digite a taxa de crescimento da população da cidade B: **1.5**  \n",
    "**63**\n"
   ]
  },
  {
   "cell_type": "code",
   "execution_count": 9,
   "id": "5463342c",
   "metadata": {},
   "outputs": [
    {
     "name": "stdin",
     "output_type": "stream",
     "text": [
      "Digite a população da cidade A:  80000\n",
      "Digite a taxa de crescimento da população da cidade A:  3\n",
      "Digite a população da cidade B:  200000\n",
      "Digite a taxa de crescimento da população da cidade B:  1.5\n"
     ]
    },
    {
     "name": "stdout",
     "output_type": "stream",
     "text": [
      "Levará 63 anos\n"
     ]
    }
   ],
   "source": [
    "### ESCREVA SUA SOLUÇÃO AQUI\n",
    "\n",
    "def populacao(h_a , t_a, h_b, t_b):\n",
    "\n",
    "    anos = 0\n",
    "\n",
    "    while h_a <= h_b:\n",
    "\n",
    "        h_a = (h_a * (1 + (t_a / 100)))\n",
    "        h_b = (h_b * (1 + (t_b / 100)))\n",
    "        anos = anos + 1\n",
    "\n",
    "    return anos\n",
    "        \n",
    "populacao_A = int(input('Digite a população da cidade A: '))\n",
    "taxa_A = float(input('Digite a taxa de crescimento da população da cidade A: '))\n",
    "\n",
    "populacao_B = int(input('Digite a população da cidade B: '))\n",
    "taxa_B = float(input('Digite a taxa de crescimento da população da cidade B: '))\n",
    "\n",
    "anos_faltantes = populacao(populacao_A, taxa_A, populacao_B, taxa_B)\n",
    "    \n",
    "print(f\"Levará {anos_faltantes} anos\")  \n"
   ]
  },
  {
   "cell_type": "code",
   "execution_count": null,
   "id": "365e9cd0-5821-43e7-8508-8d15a333c24f",
   "metadata": {},
   "outputs": [],
   "source": [
    "# Exemplo de uso:\n",
    "populacao_A = int(input('Digite a população da cidade A: '))\n",
    "taxa_A = float(input('Digite a taxa de crescimento da população da cidade A: '))\n",
    "\n",
    "populacao_B = int(input('Digite a população da cidade B: '))\n",
    "taxa_B = float(input('Digite a taxa de crescimento da população da cidade B: '))\n",
    "\n",
    "print(populacao(populacao_A, taxa_A, populacao_B, taxa_B))"
   ]
  },
  {
   "cell_type": "markdown",
   "id": "132ac139",
   "metadata": {},
   "source": [
    "\n",
    "## Problema 2\n",
    "\n",
    "Desenvolva um gerador de tabuada, capaz de gerar a tabuada de qualquer número inteiro entre 1 e 10. O usuário deve informar de qual número ele deseja ver a tabuada.\n",
    "\n",
    "### Exemplo de execução do programa:\n",
    "\n",
    "Digite um inteiro: **5**  \n",
    "Tabuada de 5:  \n",
    "5 X 1 = 5  \n",
    "5 X 2 = 10  \n",
    "...  \n",
    "5 X 10 = 50\n"
   ]
  },
  {
   "cell_type": "code",
   "execution_count": 18,
   "id": "8d3f087c",
   "metadata": {},
   "outputs": [
    {
     "name": "stdin",
     "output_type": "stream",
     "text": [
      "Digite um inteiro:  5\n"
     ]
    },
    {
     "name": "stdout",
     "output_type": "stream",
     "text": [
      "5 X 1 = 5\n",
      "5 X 2 = 10\n",
      "5 X 3 = 15\n",
      "5 X 4 = 20\n",
      "5 X 5 = 25\n",
      "5 X 6 = 30\n",
      "5 X 7 = 35\n",
      "5 X 8 = 40\n",
      "5 X 9 = 45\n",
      "5 X 10 = 50\n"
     ]
    }
   ],
   "source": [
    "### ESCREVA SUA SOLUÇÃO AQUI\n",
    "\n",
    "def tabuada(x):\n",
    "\n",
    "    if 1 <= 10:\n",
    "        for i in range(1, 11):\n",
    "            resultado = x * i\n",
    "            print(f\"{x} X {i} = {resultado}\")\n",
    "    else:\n",
    "        print(\"Número invalido\")\n",
    "\n",
    "n = int(input('Digite um inteiro: '))\n",
    "tabuada(n)"
   ]
  },
  {
   "cell_type": "code",
   "execution_count": null,
   "id": "9689a40f-7674-4251-9b8e-f63162a4bdd7",
   "metadata": {},
   "outputs": [],
   "source": [
    "# Exemplo de uso:\n",
    "n = int(input('Digite um inteiro: '))\n",
    "tabuada(n)"
   ]
  },
  {
   "cell_type": "markdown",
   "id": "47bc3a47",
   "metadata": {},
   "source": [
    "## Problema 3\n",
    "\n",
    "O Sr. Manoel Joaquim possui uma grande loja de artigos de R$ 1,99, com cerca de 10 caixas. Para agilizar o cálculo de quanto cada cliente deve pagar ele desenvolveu uma tabela que contém o número de itens que o cliente comprou e ao lado o valor da conta. \n",
    "Você foi contratado para desenvolver o programa que monta esta tabela de preços, que conterá os preços de 1 até 50 produtos."
   ]
  },
  {
   "cell_type": "raw",
   "id": "cc749bec-156c-4595-9e19-1a95548dfade",
   "metadata": {},
   "source": [
    "Exemplo de execução do programa:\n",
    "\n",
    "Loja Quase Dois - Tabela de preços  \n",
    "1 - R$ 1.99  \n",
    "2 - R$ 3.98  \n",
    "...  \n",
    "50 - R$ 99.50"
   ]
  },
  {
   "cell_type": "code",
   "execution_count": 21,
   "id": "a6fd3cc9",
   "metadata": {},
   "outputs": [
    {
     "name": "stdout",
     "output_type": "stream",
     "text": [
      "         1 - R$ 1.99\n",
      "         2 - R$ 3.98\n",
      "         3 - R$ 5.97\n",
      "         4 - R$ 7.96\n",
      "         5 - R$ 9.95\n",
      "         6 - R$ 11.94\n",
      "         7 - R$ 13.93\n",
      "         8 - R$ 15.92\n",
      "         9 - R$ 17.91\n",
      "        10 - R$ 19.90\n",
      "        11 - R$ 21.89\n",
      "        12 - R$ 23.88\n",
      "        13 - R$ 25.87\n",
      "        14 - R$ 27.86\n",
      "        15 - R$ 29.85\n",
      "        16 - R$ 31.84\n",
      "        17 - R$ 33.83\n",
      "        18 - R$ 35.82\n",
      "        19 - R$ 37.81\n",
      "        20 - R$ 39.80\n",
      "        21 - R$ 41.79\n",
      "        22 - R$ 43.78\n",
      "        23 - R$ 45.77\n",
      "        24 - R$ 47.76\n",
      "        25 - R$ 49.75\n",
      "        26 - R$ 51.74\n",
      "        27 - R$ 53.73\n",
      "        28 - R$ 55.72\n",
      "        29 - R$ 57.71\n",
      "        30 - R$ 59.70\n",
      "        31 - R$ 61.69\n",
      "        32 - R$ 63.68\n",
      "        33 - R$ 65.67\n",
      "        34 - R$ 67.66\n",
      "        35 - R$ 69.65\n",
      "        36 - R$ 71.64\n",
      "        37 - R$ 73.63\n",
      "        38 - R$ 75.62\n",
      "        39 - R$ 77.61\n",
      "        40 - R$ 79.60\n",
      "        41 - R$ 81.59\n",
      "        42 - R$ 83.58\n",
      "        43 - R$ 85.57\n",
      "        44 - R$ 87.56\n",
      "        45 - R$ 89.55\n",
      "        46 - R$ 91.54\n",
      "        47 - R$ 93.53\n",
      "        48 - R$ 95.52\n",
      "        49 - R$ 97.51\n",
      "        50 - R$ 99.50\n"
     ]
    }
   ],
   "source": [
    "### ESCREVA SUA SOLUÇÃO AQUI\n",
    "\n",
    "def tabela_preco(pu, qtdmax):\n",
    "    for qtd in range(1, qtdmax + 1):\n",
    "        valor_total = qtd * pu\n",
    "        print(f\"{qtd:10} - R$ {valor_total:.2f}\")\n",
    "\n",
    "preco_produto = 1.99\n",
    "quantidade_maxima = 50\n",
    "\n",
    "tabela_preco(preco_produto, quantidade_maxima)"
   ]
  },
  {
   "cell_type": "code",
   "execution_count": null,
   "id": "f276abac-8a9d-4555-acae-eb4635b77070",
   "metadata": {},
   "outputs": [],
   "source": [
    "# Exemplo de uso:\n",
    "tabela_preco()"
   ]
  },
  {
   "cell_type": "markdown",
   "id": "802fc3bc",
   "metadata": {},
   "source": [
    "\n",
    "## Problema 4\n",
    "\n",
    "O Sr. Manoel Joaquim acaba de adquirir uma panificadora e pretende implantar a metodologia da tabelinha, que já é um sucesso na sua loja de 1,99. \n",
    "Você foi contratado para desenvolver o programa que monta a tabela de preços de pães, de 1 até 50 pães, a partir do preço do pão informado pelo usuário."
   ]
  },
  {
   "cell_type": "raw",
   "id": "8b5db890-6cd8-4af3-a047-ecc8782c799a",
   "metadata": {},
   "source": [
    "Exemplo de execução do programa:\n",
    "\n",
    "Digite o preço do pão: 0.18  \n",
    "1 - R$ 0.18  \n",
    "2 - R$ 0.36  \n",
    "...  \n",
    "50 - R$ 9.00"
   ]
  },
  {
   "cell_type": "code",
   "execution_count": 23,
   "id": "9ea1fe9f",
   "metadata": {},
   "outputs": [
    {
     "name": "stdin",
     "output_type": "stream",
     "text": [
      "Digite um inteiro:  0.18\n"
     ]
    },
    {
     "name": "stdout",
     "output_type": "stream",
     "text": [
      "         1 - R$ 0.18\n",
      "         2 - R$ 0.36\n",
      "         3 - R$ 0.54\n",
      "         4 - R$ 0.72\n",
      "         5 - R$ 0.90\n",
      "         6 - R$ 1.08\n",
      "         7 - R$ 1.26\n",
      "         8 - R$ 1.44\n",
      "         9 - R$ 1.62\n",
      "        10 - R$ 1.80\n",
      "        11 - R$ 1.98\n",
      "        12 - R$ 2.16\n",
      "        13 - R$ 2.34\n",
      "        14 - R$ 2.52\n",
      "        15 - R$ 2.70\n",
      "        16 - R$ 2.88\n",
      "        17 - R$ 3.06\n",
      "        18 - R$ 3.24\n",
      "        19 - R$ 3.42\n",
      "        20 - R$ 3.60\n",
      "        21 - R$ 3.78\n",
      "        22 - R$ 3.96\n",
      "        23 - R$ 4.14\n",
      "        24 - R$ 4.32\n",
      "        25 - R$ 4.50\n",
      "        26 - R$ 4.68\n",
      "        27 - R$ 4.86\n",
      "        28 - R$ 5.04\n",
      "        29 - R$ 5.22\n",
      "        30 - R$ 5.40\n",
      "        31 - R$ 5.58\n",
      "        32 - R$ 5.76\n",
      "        33 - R$ 5.94\n",
      "        34 - R$ 6.12\n",
      "        35 - R$ 6.30\n",
      "        36 - R$ 6.48\n",
      "        37 - R$ 6.66\n",
      "        38 - R$ 6.84\n",
      "        39 - R$ 7.02\n",
      "        40 - R$ 7.20\n",
      "        41 - R$ 7.38\n",
      "        42 - R$ 7.56\n",
      "        43 - R$ 7.74\n",
      "        44 - R$ 7.92\n",
      "        45 - R$ 8.10\n",
      "        46 - R$ 8.28\n",
      "        47 - R$ 8.46\n",
      "        48 - R$ 8.64\n",
      "        49 - R$ 8.82\n",
      "        50 - R$ 9.00\n"
     ]
    }
   ],
   "source": [
    "### ESCREVA SUA SOLUÇÃO AQUI\n",
    "\n",
    "def tabela_preco(pu, qtdmax):\n",
    "    for qtd in range(1, qtdmax + 1):\n",
    "        valor_total = qtd * pu\n",
    "        print(f\"{qtd:10} - R$ {valor_total:.2f}\")\n",
    "\n",
    "#preco_do_pao = 0.18\n",
    "preco_do_pao = float(input('Digite um inteiro: '))\n",
    "quantidade_maxima = 50\n",
    "\n",
    "tabela_preco(preco_do_pao, quantidade_maxima)"
   ]
  },
  {
   "cell_type": "code",
   "execution_count": null,
   "id": "97c00c94-7fb5-4f1e-af5e-b02faf2e50dd",
   "metadata": {},
   "outputs": [],
   "source": [
    "# Exemplo de uso:\n",
    "preco_pao = float(input('Digite o preço do pão: '))\n",
    "tabela_pao(preco_pao)"
   ]
  },
  {
   "cell_type": "markdown",
   "id": "a2897e58",
   "metadata": {},
   "source": [
    "## Problema 5\n",
    "\n",
    "Faça um programa que leia um número inteiro e imprima na tela se ele é ou não um número primo. Um número primo é aquele que é divisível somente por ele mesmo e por 1.\n",
    "\n",
    "### Exemplo de execução do programa:\n",
    "\n",
    "Digite um inteiro n: **2**  \n",
    "**É primo**  \n",
    "\n",
    "Digite um inteiro n: **4**  \n",
    "**Não é primo**"
   ]
  },
  {
   "cell_type": "code",
   "execution_count": 50,
   "id": "d81b4c7e-d8f5-4444-a12d-d7988b6580a6",
   "metadata": {},
   "outputs": [
    {
     "name": "stdin",
     "output_type": "stream",
     "text": [
      "Digite um inteiro n:  23\n"
     ]
    },
    {
     "name": "stdout",
     "output_type": "stream",
     "text": [
      "23 é primo\n"
     ]
    }
   ],
   "source": [
    "### ESCREVA SUA SOLUÇÃO AQUI\n",
    "\n",
    "def eprimo(numero):\n",
    "    if numero < 1:\n",
    "        return False\n",
    "    if numero < 3 and numero > 1:\n",
    "        return True\n",
    "    if numero % 2 == 0 or numero % 3 == 0:   \n",
    "        return False\n",
    "\n",
    "    i = 5\n",
    "    while (i * i) <= numero:\n",
    "        if numero % i == 0 or numero % (i + 2) == 0:\n",
    "            return False\n",
    "        i = i + 6\n",
    "    return True\n",
    "\n",
    "n = int(input('Digite um inteiro n: '))\n",
    "if eh_primo(n):\n",
    "    print(f\"{n} é primo\")\n",
    "else:\n",
    "    print(f\"{n} não é primo\")        \n",
    "    "
   ]
  },
  {
   "cell_type": "code",
   "execution_count": 36,
   "id": "255ad139-bb0a-40a1-8a55-5fefe88b891f",
   "metadata": {},
   "outputs": [
    {
     "name": "stdin",
     "output_type": "stream",
     "text": [
      "Digite um inteiro n:  9\n"
     ]
    },
    {
     "name": "stdout",
     "output_type": "stream",
     "text": [
      "9 não é primo\n"
     ]
    }
   ],
   "source": [
    "# Exemplo de uso:\n",
    "n = int(input('Digite um inteiro n: '))\n",
    "if eh_primo(n):\n",
    "    print(f\"{n} é primo\")\n",
    "else:\n",
    "    print(f\"{n} não é primo\")"
   ]
  },
  {
   "cell_type": "markdown",
   "id": "fa9a1ead",
   "metadata": {},
   "source": [
    "\n",
    "## Problema 6\n",
    "\n",
    "A série de Fibonacci é formada pela sequência 1, 1, 2, 3, 5, 8, 13, 21, 34, 55,... Faça um programa que imprima na tela o n-ésimo termo, onde n é um inteiro informado pelo usuário.\n",
    "\n",
    "### Exemplo de execução do programa:\n",
    "\n",
    "Digite um inteiro n: **7**  \n",
    "**13**  \n",
    "\n",
    "Digite um inteiro n: **3**  \n",
    "**2**\n"
   ]
  },
  {
   "cell_type": "code",
   "execution_count": 59,
   "id": "b695612f",
   "metadata": {},
   "outputs": [
    {
     "name": "stdin",
     "output_type": "stream",
     "text": [
      "Digite um inteiro n:  7\n"
     ]
    },
    {
     "name": "stdout",
     "output_type": "stream",
     "text": [
      "13\n"
     ]
    }
   ],
   "source": [
    "### ESCREVA SUA SOLUÇÃO AQUI\n",
    "def fibonacci(n):\n",
    "    if n <= 0:\n",
    "        return -1\n",
    "    elif n == 1 or n == 2:\n",
    "        return 1\n",
    "    else:\n",
    "        fib_1 = 1\n",
    "        fib_2 = 1\n",
    "        for _ in range(3, n + 1):\n",
    "            fib_n = fib_1 + fib_2\n",
    "            fib_2 = fib_1\n",
    "            fib_1 = fib_n\n",
    "\n",
    "        return fib_n\n",
    "\n",
    "n = int(input('Digite um inteiro n: '))\n",
    "print(fibonacci(n))"
   ]
  },
  {
   "cell_type": "code",
   "execution_count": 56,
   "id": "2267cd69-a670-4f2d-8b33-0a8de80fba89",
   "metadata": {},
   "outputs": [
    {
     "name": "stdin",
     "output_type": "stream",
     "text": [
      "Digite um inteiro n:  5\n"
     ]
    },
    {
     "name": "stdout",
     "output_type": "stream",
     "text": [
      "5\n"
     ]
    }
   ],
   "source": [
    "# Exemplo de uso:\n",
    "n = int(input('Digite um inteiro n: '))\n",
    "print(fibonacci(n))"
   ]
  },
  {
   "cell_type": "code",
   "execution_count": null,
   "id": "31cb4804-feb3-4f2f-9613-ec3719e2ccda",
   "metadata": {},
   "outputs": [],
   "source": []
  }
 ],
 "metadata": {
  "kernelspec": {
   "display_name": "Python 3 (ipykernel)",
   "language": "python",
   "name": "python3"
  },
  "language_info": {
   "codemirror_mode": {
    "name": "ipython",
    "version": 3
   },
   "file_extension": ".py",
   "mimetype": "text/x-python",
   "name": "python",
   "nbconvert_exporter": "python",
   "pygments_lexer": "ipython3",
   "version": "3.11.7"
  }
 },
 "nbformat": 4,
 "nbformat_minor": 5
}
