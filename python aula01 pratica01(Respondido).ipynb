{
 "cells": [
  {
   "cell_type": "markdown",
   "id": "7e357c55-9364-42c2-84f9-449ea02eedb2",
   "metadata": {},
   "source": [
    "# Aula 01 - Prática 01 "
   ]
  },
  {
   "cell_type": "markdown",
   "id": "3d25fe3d",
   "metadata": {},
   "source": [
    "# Problema 1\n",
    "\n",
    "Escreva um programa que solicita ao usuário o raio de uma circunferência e o programa imprime na tela o valor do perímetro e da área dessa circunferência, além do volume da esfera formada por essa circunferência. \n",
    "\n",
    "Considere as seguintes fórmulas:\n",
    "\n",
    "- Perímetro = 2 x π x r\n",
    "- Área = π x r²\n",
    "- Volume = 4 x π x r³ / 3\n",
    "\n",
    "**Observação 1:** utilize como valor de π a constante 3.1415.\n",
    "\n",
    "**Observação 2:** as mensagens exibidas para o usuário deverão ser exatamente como apresentado abaixo (mensagens exibidas com os comandos `input()` e `print()`).\n",
    "\n",
    "**Exemplo de execução do programa:**\n",
    "\n",
    "Digite o valor do raio da circunferência: **5.0**  \n",
    "Perímetro: **31.42**  \n",
    "Área: **78.54**  \n",
    "Volume: **523.58**"
   ]
  },
  {
   "cell_type": "code",
   "execution_count": 11,
   "id": "b548fdfd",
   "metadata": {},
   "outputs": [
    {
     "name": "stdin",
     "output_type": "stream",
     "text": [
      "Digite o valor do raio da circunferência: 5\n"
     ]
    },
    {
     "name": "stdout",
     "output_type": "stream",
     "text": [
      "Perímetro: 31.42\n",
      "Área: 78.54\n",
      "Volume: 523.58\n"
     ]
    }
   ],
   "source": [
    "# Problema 1 - Solução\n",
    "valor = int(input(\"Digite o valor do raio da circunferência:\"))\n",
    "\n",
    "P = round(((2 * 3.1415) * valor), 2)\n",
    "A = round((3.1415 * (valor**2)), 2)\n",
    "V = round(((4 * 3.1415 * (valor**3)) / 3), 2)\n",
    "\n",
    "\n",
    "#print(valor)\n",
    "print(\"Perímetro:\",P)\n",
    "print(\"Área:\", A)\n",
    "print(\"Volume:\",V)\n"
   ]
  },
  {
   "cell_type": "markdown",
   "id": "1869931e",
   "metadata": {},
   "source": [
    "\n",
    "# Problema 2\n",
    "\n",
    "Escreva um programa que solicita ao usuário um valor de velocidade inicial (v0), um valor de aceleração (a) e um valor de tempo (t) e o programa imprime na tela a velocidade final e a distância percorrida por um veículo após o intervalo de tempo t, com velocidade inicial igual a v0 e aceleração igual a a. \n",
    "\n",
    "Considere as seguintes fórmulas:\n",
    "\n",
    "- Velocidade final: v = v0 + a x t\n",
    "- Distância percorrida: s = v0 x t + (a x t²) / 2\n",
    "\n",
    "**Exemplo de execução do programa:**\n",
    "\n",
    "Digite o valor da velocidade: **100.0**  \n",
    "Digite o valor da aceleração: **5.0**  \n",
    "Digite o valor do tempo: **60.0**  \n",
    "Velocidade final: **400.00**  \n",
    "Distância percorrida: **15000.00**\n"
   ]
  },
  {
   "cell_type": "code",
   "execution_count": 13,
   "id": "b944026c",
   "metadata": {},
   "outputs": [
    {
     "name": "stdin",
     "output_type": "stream",
     "text": [
      "Digite o valor da velocidade: 100\n",
      "Digite o valor da aceleração: 5\n",
      "Digite o valor do tempo: 60\n"
     ]
    },
    {
     "name": "stdout",
     "output_type": "stream",
     "text": [
      "Velocidade final: 400.0\n",
      "Distância percorrida: 15000.0\n"
     ]
    }
   ],
   "source": [
    "# Problema 2 - Solução\n",
    "v0 = float(input(\"Digite o valor da velocidade:\"))\n",
    "a = float(input(\"Digite o valor da aceleração:\"))\n",
    "t = float(input(\"Digite o valor do tempo:\"))\n",
    "\n",
    "vf = round((v0 + (a * t)), 2)\n",
    "dp = ((v0 * t) +(a * (t**2))/2)\n",
    "\n",
    "print(\"Velocidade final:\", vf)\n",
    "print(\"Distância percorrida:\", dp)\n"
   ]
  },
  {
   "cell_type": "markdown",
   "id": "a2f3c4c6",
   "metadata": {},
   "source": [
    "# Problema 3\n",
    "\n",
    "Escreva um programa que solicita ao usuário um intervalo de tempo em segundos e o programa imprime na tela o valor correspondente em horas, minutos e segundos.\n",
    "\n",
    "**Exemplo 1 de execução do programa:**\n",
    "\n",
    "Digite o valor do tempo em segundos: **3850**  \n",
    "Valor convertido: **1 h 4 min 10 s**\n",
    "\n",
    "**Exemplo 2 de execução do programa:**\n",
    "\n",
    "Digite o valor do tempo em segundos: **60**  \n",
    "Valor convertido: **0 h 1 min 0 s**"
   ]
  },
  {
   "cell_type": "code",
   "execution_count": 35,
   "id": "a4184bdd",
   "metadata": {},
   "outputs": [
    {
     "name": "stdin",
     "output_type": "stream",
     "text": [
      "Digite o valor do tempo em segundos: 3850\n"
     ]
    },
    {
     "name": "stdout",
     "output_type": "stream",
     "text": [
      "1 h 4 min 10 s\n"
     ]
    }
   ],
   "source": [
    "# Problema 3 - Solução\n",
    "\n",
    "tempoS = int(input(\"Digite o valor do tempo em segundos:\"))\n",
    "\n",
    "hs = int(tempoS // (60 * 60))\n",
    "ss = int(tempoS % (60 * 60))\n",
    "m = int(((ss / 60)))\n",
    "s = int((ss % 60))\n",
    "\n",
    "print(f\"{hs} h {m} min {s} s\")\n",
    "\n",
    "\n"
   ]
  },
  {
   "cell_type": "markdown",
   "id": "0c8a5b1d",
   "metadata": {},
   "source": [
    "# Problema 4\n",
    "\n",
    "Escreva um programa que solicita ao usuário um número inteiro de 4 algarismos e o programa imprime na tela o seu valor invertido.\n",
    "\n",
    "**Exemplo de execução do programa:**\n",
    "\n",
    "Digite um inteiro de 4 algarismos: **1234**  \n",
    "Valor invertido: **4321**"
   ]
  },
  {
   "cell_type": "code",
   "execution_count": 40,
   "id": "0aa1b6ae",
   "metadata": {},
   "outputs": [
    {
     "name": "stdin",
     "output_type": "stream",
     "text": [
      "Digite um número inteiro de 4 algarismos: 1234\n"
     ]
    },
    {
     "name": "stdout",
     "output_type": "stream",
     "text": [
      "Valor invertido: 4321\n"
     ]
    }
   ],
   "source": [
    "# Problema 4 - Solução\n",
    "\n",
    "ni =  input(\"Digite um número inteiro de 4 algarismos:\")\n",
    "\n",
    "vi = ''.join(reversed(ni))\n",
    "\n",
    "print(\"Valor invertido:\", vi)"
   ]
  },
  {
   "cell_type": "code",
   "execution_count": null,
   "id": "f771dd2f-7035-44be-ae3f-95a557f51bdd",
   "metadata": {},
   "outputs": [],
   "source": []
  }
 ],
 "metadata": {
  "kernelspec": {
   "display_name": "Python 3 (ipykernel)",
   "language": "python",
   "name": "python3"
  },
  "language_info": {
   "codemirror_mode": {
    "name": "ipython",
    "version": 3
   },
   "file_extension": ".py",
   "mimetype": "text/x-python",
   "name": "python",
   "nbconvert_exporter": "python",
   "pygments_lexer": "ipython3",
   "version": "3.11.7"
  }
 },
 "nbformat": 4,
 "nbformat_minor": 5
}
