{
 "cells": [
  {
   "cell_type": "markdown",
   "id": "cb1e4993",
   "metadata": {},
   "source": [
    "\n",
    "# Atividade Prática - Manipulação de Strings\n",
    "\n",
    "## Problema 1\n",
    "\n",
    "Certo dia, o Prof. Humberto José Roberto fez o seguinte questionamento: se o zero à esquerda de um número não tem valor algum, por que teria em outras posições de um número?\n",
    "\n",
    "Portanto, ele pede sua ajuda para, ao somar dois valores inteiros, que o resultado seja exibido segundo o raciocínio dele, ou seja, sem os zeros.\n",
    "\n",
    "Por exemplo, ao somar 15 + 5, o resultado correto seria 20, mas com esta nova ideia, o novo resultado seria 2. Ao somar 99 + 6, o resultado correto seria 105, mas com esta nova ideia, o novo resultado seria 15.\n",
    "\n",
    "Escreva um programa que lê dois números inteiros (pode assumir que eles não têm o algarismo zero), some os mesmos e, caso o resultado tenha algum algarismo zero, então os retire antes de imprimir na tela.\n",
    "\n",
    "### Exemplo de execução do programa:\n",
    "\n",
    "```\n",
    "Digite o primeiro número: 7\n",
    "Digite o segundo número: 5\n",
    "Resultado: 12\n",
    "\n",
    "Digite o primeiro número: 99\n",
    "Digite o segundo número: 6\n",
    "Resultado: 15\n",
    "```"
   ]
  },
  {
   "cell_type": "code",
   "execution_count": 10,
   "id": "e43384fe-d31b-4189-ba47-ff56f4ec1d09",
   "metadata": {},
   "outputs": [
    {
     "name": "stdin",
     "output_type": "stream",
     "text": [
      "Digite o primeiro número:  99\n",
      "Digite o segundo número:  6\n"
     ]
    },
    {
     "name": "stdout",
     "output_type": "stream",
     "text": [
      "Resultado:  15\n"
     ]
    }
   ],
   "source": [
    "# Solução do Problema 1\n",
    "def zeros_sem_valor(num1, num2):\n",
    "\n",
    "    result = num1 + num2\n",
    "    result_str = str(result).replace('0', '') \n",
    "    return int(result_str) if result_str else 0  \n",
    "\n",
    "numero1 = int(input(\"Digite o primeiro número: \"))\n",
    "numero2 = int(input(\"Digite o segundo número: \"))\n",
    "\n",
    "resultado_final = zeros_sem_valor(numero1, numero2)\n",
    "\n",
    "print(\"Resultado: \", resultado_final)"
   ]
  },
  {
   "cell_type": "markdown",
   "id": "9f4e6232",
   "metadata": {},
   "source": [
    "## Problema 2\n",
    "\n",
    "Escreva um programa que lê duas strings e imprime na tela as strings combinadas, alternando as letras de cada string, começando com a primeira letra da primeira string, seguido pela primeira letra da segunda string, em seguida pela segunda letra da primeira string, e assim sucessivamente. As letras restantes da string mais longa devem ser adicionadas ao final da string resultante.\n",
    "\n",
    "### Exemplo de execução do programa:\n",
    "\n",
    "```\n",
    "Digite a primeira palavra: Tpo\n",
    "Digite a segunda palavra: oCder\n",
    "Combinação: TopCoder\n",
    "\n",
    "Digite a primeira palavra: aaa\n",
    "Digite a segunda palavra: bb\n",
    "Combinação: ababa\n",
    "```"
   ]
  },
  {
   "cell_type": "code",
   "execution_count": 23,
   "id": "453d74b5-d3cf-425f-8cb4-1f3653cc1c53",
   "metadata": {},
   "outputs": [
    {
     "name": "stdin",
     "output_type": "stream",
     "text": [
      "Digite a primeira palavra:  aaa\n",
      "Digite a segunda palavra:  bb\n"
     ]
    },
    {
     "name": "stdout",
     "output_type": "stream",
     "text": [
      "Combinação: ababa\n"
     ]
    }
   ],
   "source": [
    "# Solução do Problema 2\n",
    "def combinar_strings(str1, str2):\n",
    "\n",
    "    resultado = \"\"\n",
    "    s1 = 0\n",
    "    s2 = 0  \n",
    "  \n",
    "    while s1 < len(str1) and s2 < len(str2):\n",
    "        resultado = resultado + str1[s1] + str2[s2]\n",
    "        s1 = s1 + 1\n",
    "        s2 = s2 + 1\n",
    "  \n",
    "    resultado = resultado + str1[s1:] + str2[s2:]\n",
    "\n",
    "    return resultado\n",
    "\n",
    "str1 = str(input(\"Digite a primeira palavra: \"))\n",
    "str2 = str(input(\"Digite a segunda palavra: \"))\n",
    "\n",
    "resultado = combinar_strings(str1, str2)\n",
    "print(f\"Combinação: {resultado}\")"
   ]
  },
  {
   "cell_type": "markdown",
   "id": "ed89d88e",
   "metadata": {},
   "source": [
    "\n",
    "## Problema 3\n",
    "\n",
    "A sua impressora foi infectada por um vírus e está imprimindo de forma incorreta. Depois de olhar para várias páginas impressas por um tempo, você percebe que ela está imprimindo cada linha de dentro para fora. Em outras palavras, a metade esquerda de cada linha está sendo impressa a partir do meio da página até a margem esquerda. Do mesmo modo, a metade direita de cada linha está sendo impressa a partir da margem direita e prosseguindo em direção ao centro da página.\n",
    "\n",
    "Por exemplo a linha:\n",
    "```\n",
    "THIS LINE IS GIBBERISH\n",
    "```\n",
    "Está sendo impressa como:\n",
    "```\n",
    "I ENIL SIHTHSIREBBIG S\n",
    "```\n",
    "Escreva um programa que lê uma frase embaralhada e imprime na tela a frase correta.\n",
    "\n",
    "### Exemplo de execução do programa:\n",
    "\n",
    "```\n",
    "Frase embaralhada: I ENIL SIHTHSIREBBIG S\n",
    "Frase correta: THIS LINE IS GIBBERISH\n",
    "```\n"
   ]
  },
  {
   "cell_type": "code",
   "execution_count": 31,
   "id": "d1c92590-dc6d-45ce-8184-40b601a906fd",
   "metadata": {},
   "outputs": [
    {
     "name": "stdin",
     "output_type": "stream",
     "text": [
      "Frase embaralhada:  I ENIL SIHTHSIREBBIG S\n"
     ]
    },
    {
     "name": "stdout",
     "output_type": "stream",
     "text": [
      "Frase correta : THIS LINE IS GIBBERISH\n"
     ]
    }
   ],
   "source": [
    "# Solução do Problema 3\n",
    "def desenbaralhar(embaralhada):\n",
    "    \n",
    "    corpo = len(embaralhada)\n",
    "    metade = corpo // 2\n",
    "    esquerda = embaralhada[:metade]\n",
    "    direita = embaralhada[metade:]\n",
    "    \n",
    "    esquerda_reversa = esquerda[::-1]\n",
    "    direita_reversa = direita[::-1]\n",
    "    \n",
    "    frase_corrigida = esquerda_reversa + direita_reversa\n",
    "    \n",
    "    return frase_corrigida\n",
    "\n",
    "embaralhada = str(input(\"Frase embaralhada: \"))\n",
    "\n",
    "# Corrige a frase e exibe o resultado\n",
    "frase_corrigida = desenbaralhar(embaralhada)\n",
    "print(f\"Frase correta : {frase_corrigida}\")"
   ]
  },
  {
   "cell_type": "markdown",
   "id": "6b19d493",
   "metadata": {},
   "source": [
    "\n",
    "## Problema 4\n",
    "\n",
    "Uma cifra de César é uma forma fraca de criptografia que implica em \"rotacionar\" cada letra por um número fixo de posições. Rotacionar uma letra significa deslocá-la pelo alfabeto, voltando ao início se for necessário. Portanto, `A` rotacionado por 3 é `D`, enquanto que `Z` rotacionado por 1 é `A`. \n",
    "\n",
    "Escreva um programa que lê uma palavra e um número inteiro e imprime na tela a palavra rotacionada de acordo com a cifra de César. Você pode assumir que todas as letras da palavra são minúsculas.\n",
    "\n",
    "### Exemplo de execução do programa:\n",
    "\n",
    "```\n",
    "Digite uma palavra: cheer\n",
    "Digite o valor da chave: 7\n",
    "Resultado: jolly\n",
    "```\n"
   ]
  },
  {
   "cell_type": "code",
   "execution_count": 33,
   "id": "ee4faee5-8905-40f6-af81-12e72218ccb8",
   "metadata": {},
   "outputs": [
    {
     "name": "stdin",
     "output_type": "stream",
     "text": [
      "Digite uma palavra:  cheer\n",
      "Digite o valor da chave:  7\n"
     ]
    },
    {
     "name": "stdout",
     "output_type": "stream",
     "text": [
      "Resultado: jolly\n"
     ]
    }
   ],
   "source": [
    "# Solução do Problema 4\n",
    "def cifra_cesar(texto, chave):\n",
    "\n",
    "  alfabeto = 'abcdefghijklmnopqrstuvwxyz'\n",
    "  texto_cifrado = ''\n",
    "\n",
    "  for letra in texto:\n",
    "    indice = alfabeto.find(letra)\n",
    "    novo_indice = (indice + chave) % 26  \n",
    "    texto_cifrado = texto_cifrado + alfabeto[novo_indice]\n",
    "\n",
    "  return texto_cifrado\n",
    "\n",
    "palavra = input(\"Digite uma palavra: \")\n",
    "chave = int(input(\"Digite o valor da chave: \"))\n",
    "\n",
    "resultado = cifra_cesar(palavra, chave)\n",
    "print(f\"Resultado: {resultado}\")"
   ]
  }
 ],
 "metadata": {
  "kernelspec": {
   "display_name": "Python 3 (ipykernel)",
   "language": "python",
   "name": "python3"
  },
  "language_info": {
   "codemirror_mode": {
    "name": "ipython",
    "version": 3
   },
   "file_extension": ".py",
   "mimetype": "text/x-python",
   "name": "python",
   "nbconvert_exporter": "python",
   "pygments_lexer": "ipython3",
   "version": "3.11.7"
  }
 },
 "nbformat": 4,
 "nbformat_minor": 5
}
