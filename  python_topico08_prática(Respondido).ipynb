{
 "cells": [
  {
   "cell_type": "markdown",
   "id": "7438e1b5",
   "metadata": {},
   "source": [
    "\n",
    "## Problema 1\n",
    "Sabe-se que uma molécula de RNA mensageiro é utilizada como base para sintetizar proteínas, no processo denominado de tradução. Cada trinca de bases de RNA mensageiro está relacionada com um aminoácido. Com base na tabela (simplificada) de trincas de RNA abaixo, escreva um programa que receba uma string representando uma molécula de RNA mensageiro válida, segundo essa tabela, e imprime na tela a cadeia de aminoácidos que representam a proteína correspondente:\n",
    "\n",
    "Trinca de RNA | Nome do Aminoácido\n",
    "--- | ---\n",
    "UUU | Phe\n",
    "CUU | Leu\n",
    "UUA | Leu\n",
    "AAG | Lisina\n",
    "UCU | Ser\n",
    "UAU | Tyr\n",
    "CAA | Gln\n",
    "\n",
    "Exemplo 1 de execução do programa:\n",
    "\n",
    "```\n",
    "Digite o RNA: UUUUUAUCU\n",
    "Cadeia de Aminoácidos: Phe-Leu-Ser\n",
    "```\n",
    "\n",
    "Exemplo 2 de execução do programa:\n",
    "\n",
    "```\n",
    "Digite o RNA: UUUCAA\n",
    "Cadeia de Aminoácidos: Phe-Gln\n",
    "```\n"
   ]
  },
  {
   "cell_type": "code",
   "execution_count": 3,
   "id": "54b8ea2a",
   "metadata": {},
   "outputs": [
    {
     "name": "stdin",
     "output_type": "stream",
     "text": [
      "Digite o RNA:  UUUCAA\n"
     ]
    },
    {
     "name": "stdout",
     "output_type": "stream",
     "text": [
      "Cadeia de Aminoácidos: Phe-Gln\n"
     ]
    }
   ],
   "source": [
    "# Solução do Problema 1\n",
    "\n",
    "def traduzir_rna(rna):\n",
    "\n",
    "    tabela_codons = {\n",
    "        \"UUU\": \"Phe\", \n",
    "        \"CUU\": \"Leu\",\n",
    "        \"UUA\": \"Leu\", \n",
    "        \"AAG\": \"Lisina\",\n",
    "        \"UCU\": \"Ser\", \n",
    "        \"UAU\": \"Tyr\",\n",
    "        \"CAA\": \"Gln\"\n",
    "    }\n",
    "\n",
    "    aminoacidos = []\n",
    "    for i in range(0, len(rna), 3):\n",
    "        codon = rna[i:i+3]\n",
    "        if codon in tabela_codons:\n",
    "            aminoacidos.append(tabela_codons[codon])\n",
    "        else:\n",
    "            print(\"Códão inválido:\", codon)\n",
    "    return \"-\".join(aminoacidos)\n",
    "\n",
    "if __name__ == \"__main__\":\n",
    "    rna = input(\"Digite o RNA: \")\n",
    "    proteina = traduzir_rna(rna)\n",
    "    print(\"Cadeia de Aminoácidos:\", proteina)\n"
   ]
  },
  {
   "cell_type": "markdown",
   "id": "56da3a78",
   "metadata": {},
   "source": [
    "\n",
    "## Problema 2\n",
    "Escreva um programa que converte um número inteiro (entre 1 e 999) para algarismos romanos. Use os três dicionários abaixo:\n",
    "\n",
    "- UNIDADES = {0: \"\", 1: 'I', 2: 'II', 3: 'III', 4: 'IV', 5: 'V', 6: 'VI', 7: 'VII', 8: 'VIII', 9: 'IX'}\n",
    "- DEZENAS = {0: \"\", 1: 'X', 2: 'XX', 3: 'XXX', 4: 'XL', 5: 'L', 6: 'LX', 7: 'LXX', 8: 'LXXX', 9: 'XC'}\n",
    "- CENTENAS = {0: \"\", 1: 'C', 2: 'CC', 3: 'CCC', 4: 'CD', 5: 'D', 6: 'DC', 7: 'DCC', 8: 'DCCC', 9: 'CM'}\n",
    "\n",
    "Exemplo 1 de execução do programa:\n",
    "\n",
    "```\n",
    "Digite um número: 819\n",
    "Número Romano: DCCCXIX\n",
    "```\n",
    "\n",
    "Exemplo 2 de execução do programa:\n",
    "\n",
    "```\n",
    "Digite um número: 51\n",
    "Número Romano: LI\n",
    "```\n"
   ]
  },
  {
   "cell_type": "code",
   "execution_count": 14,
   "id": "325bc496",
   "metadata": {},
   "outputs": [
    {
     "name": "stdin",
     "output_type": "stream",
     "text": [
      "Digite um número:  51\n"
     ]
    },
    {
     "name": "stdout",
     "output_type": "stream",
     "text": [
      "Número Romano: LI\n"
     ]
    }
   ],
   "source": [
    "# Solução do Problema 2\n",
    "\n",
    "UNIDADES = {0: \"\", 1: 'I', 2: 'II', 3: 'III', 4: 'IV', 5: 'V', 6: 'VI', 7: 'VII', 8: 'VIII', 9: 'IX'}\n",
    "DEZENAS = {0: \"\", 1: 'X', 2: 'XX', 3: 'XXX', 4: 'XL', 5: 'L', 6: 'LX', 7: 'LXX', 8: 'LXXX', 9: 'XC'}\n",
    "CENTENAS = {0: \"\", 1: 'C', 2: 'CC', 3: 'CCC', 4: 'CD', 5: 'D', 6: 'DC', 7: 'DCC', 8: 'DCCC', 9: 'CM' } \n",
    "\n",
    "\n",
    "def inteiro_para_romano(numero):\n",
    "\n",
    "    if numero < 1 or numero > 999:\n",
    "        return \"Número inválido. Deve estar entre 1 e 999.\"\n",
    "\n",
    "    centenas = numero // 100\n",
    "    dezenas = (numero % 100) // 10\n",
    "    unidades = numero % 10\n",
    "\n",
    "    romano = CENTENAS[centenas] + DEZENAS[dezenas] + UNIDADES[unidades]\n",
    "    return romano\n",
    "\n",
    "if __name__ == \"__main__\":\n",
    "    numero = int(input(\"Digite um número: \"))\n",
    "    romano = inteiro_para_romano(numero)\n",
    "    print(\"Número Romano:\", romano)\n"
   ]
  },
  {
   "cell_type": "markdown",
   "id": "54052fcf",
   "metadata": {},
   "source": [
    "\n",
    "## Problema 3\n",
    "Em uma corrida de Kart, cada competidor tem direito a dar 5 voltas. O arquivo `tempos.txt` armazena o nome e os tempos em segundos de todos os competidores durante a corrida. Escreva um programa que lê o arquivo `tempos.txt` e exibe na tela o nome do competidor que realizou a melhor volta e o tempo da melhor volta, além da classificação final dos competidores na corrida (começando do campeão). O campeão é o competidor com a menor média de tempos.\n",
    "\n",
    "Exemplo de execução do programa:\n",
    "\n",
    "Assumindo que o arquivo `tempos.txt` possui o conteúdo abaixo:\n",
    "\n",
    "```\n",
    "Burnquist 151 50 130 140 85\n",
    "Marley 112 51 55 60 137\n",
    "Bob 98 145 95 89 87\n",
    "Ariel 112 53 80 98 69\n",
    "```\n",
    "\n",
    "Seu programa deve imprimir:\n",
    "\n",
    "```\n",
    "Melhor volta: Burnquist - 50 segundos\n",
    "Classificação final:\n",
    "1 - Ariel - 82.40\n",
    "2 - Marley - 83.00\n",
    "3 - Bob - 102.80\n",
    "4 - Burnquist - 111.20\n",
    "```\n"
   ]
  },
  {
   "cell_type": "code",
   "execution_count": 15,
   "id": "ac9f00c9",
   "metadata": {},
   "outputs": [
    {
     "name": "stdout",
     "output_type": "stream",
     "text": [
      "Melhor volta: Burnquist - 50.0 segundos\n",
      "Classificação final:\n",
      "1 - Ariel - 82.40\n",
      "2 - Marley - 83.00\n",
      "3 - Bob - 102.80\n",
      "4 - Burnquist - 111.20\n"
     ]
    }
   ],
   "source": [
    "# Solução do Problema 3\n",
    "\n",
    "def ler_tempos(arquivo):\n",
    "\n",
    "    competidores = {}\n",
    "    with open(arquivo, 'r') as f:\n",
    "        for linha in f:\n",
    "            nome, *tempos = linha.split()\n",
    "            competidores[nome] = [float(tempo) for tempo in tempos]\n",
    "    return competidores\n",
    "\n",
    "def melhor_volta(competidores):\n",
    "\n",
    "    melhor_tempo = float('inf')\n",
    "    melhor_piloto = None\n",
    "    for piloto, tempos in competidores.items():\n",
    "        if min(tempos) < melhor_tempo:\n",
    "            melhor_tempo = min(tempos)\n",
    "            melhor_piloto = piloto\n",
    "    return melhor_piloto, melhor_tempo\n",
    "\n",
    "def classificacao_final(competidores):\n",
    "\n",
    "    classificacao = []\n",
    "    for piloto, tempos in competidores.items():\n",
    "        media = sum(tempos) / len(tempos)\n",
    "        classificacao.append((media, piloto))\n",
    "    classificacao.sort()\n",
    "    return [(pos + 1, piloto, media) for pos, (media, piloto) in enumerate(classificacao)]\n",
    "\n",
    "if __name__ == \"__main__\":\n",
    "    arquivo = \"tempos.txt\"\n",
    "    competidores = ler_tempos(arquivo)\n",
    "\n",
    "    melhor_piloto, melhor_tempo = melhor_volta(competidores)\n",
    "    print(f\"Melhor volta: {melhor_piloto} - {melhor_tempo} segundos\")\n",
    "\n",
    "    classificacao = classificacao_final(competidores)\n",
    "    print(\"Classificação final:\")\n",
    "    for pos, piloto, media in classificacao:\n",
    "        print(f\"{pos} - {piloto} - {media:.2f}\")"
   ]
  },
  {
   "cell_type": "code",
   "execution_count": null,
   "id": "44058f00-bfd9-4a9c-a8b3-af7d2bf319ca",
   "metadata": {},
   "outputs": [],
   "source": []
  }
 ],
 "metadata": {
  "kernelspec": {
   "display_name": "Python 3 (ipykernel)",
   "language": "python",
   "name": "python3"
  },
  "language_info": {
   "codemirror_mode": {
    "name": "ipython",
    "version": 3
   },
   "file_extension": ".py",
   "mimetype": "text/x-python",
   "name": "python",
   "nbconvert_exporter": "python",
   "pygments_lexer": "ipython3",
   "version": "3.11.7"
  }
 },
 "nbformat": 4,
 "nbformat_minor": 5
}
